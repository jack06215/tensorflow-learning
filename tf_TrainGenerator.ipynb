{
 "cells": [
  {
   "cell_type": "code",
   "execution_count": 1,
   "metadata": {},
   "outputs": [],
   "source": [
    "import os\n",
    "import cv2\n",
    "import matplotlib.pyplot as plt\n",
    "import tensorflow as tf\n",
    "import numpy as np\n",
    "\n",
    "from pathlib import Path"
   ]
  },
  {
   "cell_type": "code",
   "execution_count": 2,
   "metadata": {},
   "outputs": [],
   "source": [
    "COLOR_CODE = {\n",
    "    \"_background_\": [0, 0, 0],\n",
    "    \"Building\": [128, 0, 0],\n",
    "    \"Pedestrian\": [0, 128, 0],\n",
    "    \"Car\": [0, 0, 128],\n",
    "    \"Sidewalk\": [128, 0, 128],\n",
    "    \"Vegetation\": [0, 128, 128],\n",
    "    \"ManmadeStructure\": [64, 0, 0],\n",
    "    \"Road\": [192, 0, 0],\n",
    "    \"Sky\": [64, 128, 0],\n",
    "    \"SignSymbol\": [192, 128, 0],\n",
    "    \"SignPole\": [64, 0, 128],\n",
    "    \"Billboard\": [128, 0, 128],\n",
    "}"
   ]
  },
  {
   "cell_type": "code",
   "execution_count": 3,
   "metadata": {},
   "outputs": [],
   "source": [
    "IMAGE_PATH = 'I:\\Sample100\\data_dataset_voc\\JPEGImages'\n",
    "MASK_PATH = 'I:\\Sample100\\data_dataset_voc\\SegmentationClassPNG'\n",
    "\n",
    "IMAGE_SIZE = (256, 256)\n",
    "N_CLASSES = len(COLOR_CODE)\n",
    "\n",
    "BATCH_INPUT_DIM = (None, 256, 256, 3) \n",
    "BATCH_OUTPUT_DIM = (None, 256, 256, N_CLASSES)\n",
    "BATCH_SIZE = 3"
   ]
  },
  {
   "cell_type": "code",
   "execution_count": null,
   "metadata": {},
   "outputs": [],
   "source": [
    "def read_images_and_masks(image_path, mask_path):\n",
    "    images = []\n",
    "    masks = []\n",
    "    file_list = np.sort(os.listdir(IMAGE_PATH))\n",
    "    for filename in file_list:\n",
    "        image_path = os.path.join(IMAGE_PATH, filename)\n",
    "        mask_path = os.path.join(MASK_PATH, filename[:-4] + '.png')\n",
    "        try:\n",
    "            image = cv2.imread(image_path)\n",
    "            mask = cv2.imread(mask_path)\n",
    "            \n",
    "            image = cv2.resize(image, IMAGE_SIZE)\n",
    "            mask = cv2.resize(mask, IMAGE_SIZE)\n",
    "            \n",
    "            image = cv2.cvtColor(image, cv2.COLOR_BGR2RGB)\n",
    "            mask = cv2.cvtColor(mask, cv2.COLOR_BGR2RGB)\n",
    "            \n",
    "            image = image / 255.0\n",
    "            \n",
    "            images.append(image)\n",
    "            masks.append(mask)\n",
    "        except:\n",
    "            continue\n",
    "    \n",
    "    return images, masks\n",
    "\n",
    "images, masks = read_images_and_masks(IMAGE_PATH, MASK_PATH)"
   ]
  },
  {
   "cell_type": "code",
   "execution_count": 4,
   "metadata": {},
   "outputs": [],
   "source": [
    "def get_masks_one_hot(mask, color_codes):\n",
    "    n_channels = len(color_codes.keys())  # N_CLASSES\n",
    "    mask_channels = np.zeros((mask.shape[0], mask.shape[1], n_channels), \n",
    "                             dtype=np.float32)\n",
    "    for i, cls in enumerate(color_codes.keys()):\n",
    "        color = color_codes[cls]\n",
    "        sub_mask = np.all(mask==color, axis=-1) * 1\n",
    "        mask_channels[:, :, i] = sub_mask\n",
    "    return mask_channels\n",
    "\n",
    "def tf_data_generator(file_list, image_path, mask_path, batch_size = 10):\n",
    "    i = 0\n",
    "    while True:\n",
    "        if i * batch_size > len(file_list):\n",
    "            i = 0\n",
    "            np.random.shuffle(file_list)\n",
    "        else:\n",
    "            images = []\n",
    "            masks = []\n",
    "            file_chunk = file_list[i * batch_size:(i + 1) * batch_size]\n",
    "            i = i + 1\n",
    "            for filename in file_chunk:\n",
    "                path_to_image = os.path.join(image_path, filename)\n",
    "                path_to_mask = os.path.join(mask_path, filename[:-4])\n",
    "                \n",
    "                if isinstance(path_to_image, (bytearray, bytes)):\n",
    "                    path_to_image = path_to_image.decode('utf-8')\n",
    "                    path_to_mask = path_to_mask.decode('utf-8') + '.png'\n",
    "                \n",
    "                elif isinstance(path_to_image, str):\n",
    "                    path_to_image = str(path_to_image)\n",
    "                    path_to_mask = str(path_to_mask) + '.png'\n",
    "                    \n",
    "                try:\n",
    "                    image = cv2.imread(path_to_image)\n",
    "                    mask = cv2.imread(path_to_mask)\n",
    "                    \n",
    "                    image = cv2.resize(image, IMAGE_SIZE)\n",
    "                    mask = cv2.resize(mask, IMAGE_SIZE)\n",
    "                    \n",
    "                    image = cv2.cvtColor(image, cv2.COLOR_BGR2RGB)\n",
    "                    mask = cv2.cvtColor(mask, cv2.COLOR_BGR2RGB)\n",
    "                    \n",
    "                    images.append(image)\n",
    "                    masks.append(mask)\n",
    "                except:\n",
    "                    continue\n",
    "            \n",
    "            masks_one_hot = [get_masks_one_hot(mask, COLOR_CODE) for mask in masks]\n",
    "            \n",
    "            images = np.asarray(images).reshape(-1, IMAGE_SIZE[0], IMAGE_SIZE[1], 3)\n",
    "            masks_one_hot = np.asarray(masks_one_hot).reshape(-1, IMAGE_SIZE[0], IMAGE_SIZE[1], N_CLASSES)\n",
    "            yield images, masks_one_hot"
   ]
  },
  {
   "cell_type": "code",
   "execution_count": 5,
   "metadata": {},
   "outputs": [
    {
     "name": "stdout",
     "output_type": "stream",
     "text": [
      "(3, 256, 256, 3) (3, 256, 256, 12)\n",
      "(3, 256, 256, 3) (3, 256, 256, 12)\n",
      "(3, 256, 256, 3) (3, 256, 256, 12)\n",
      "(3, 256, 256, 3) (3, 256, 256, 12)\n",
      "(3, 256, 256, 3) (3, 256, 256, 12)\n",
      "(3, 256, 256, 3) (3, 256, 256, 12)\n"
     ]
    }
   ],
   "source": [
    "file_list = np.sort(os.listdir(IMAGE_PATH))\n",
    "batch_generator = tf_data_generator(file_list, image_path=IMAGE_PATH, mask_path=MASK_PATH, batch_size=BATCH_SIZE)\n",
    "num = 0\n",
    "for images, masks in batch_generator:\n",
    "    # plt.figure(figsize=(20,20))\n",
    "    # plt.subplot(1,2,1)\n",
    "    # plt.imshow(images[0])\n",
    "    # plt.axis('off')\n",
    "\n",
    "    # plt.subplot(1,2,2)\n",
    "    # plt.imshow(masks[0][:,:,9])\n",
    "    # plt.axis('off')\n",
    "    # plt.show()\n",
    "    \n",
    "    print(f'{images.shape} {masks.shape}')\n",
    "    num = num + 1\n",
    "    if num > 5: break"
   ]
  },
  {
   "cell_type": "code",
   "execution_count": 6,
   "metadata": {},
   "outputs": [
    {
     "name": "stdout",
     "output_type": "stream",
     "text": [
      "(6, 256, 256, 3) (6, 256, 256, 12)\n",
      "(6, 256, 256, 3) (6, 256, 256, 12)\n",
      "(6, 256, 256, 3) (6, 256, 256, 12)\n",
      "(6, 256, 256, 3) (6, 256, 256, 12)\n",
      "(6, 256, 256, 3) (6, 256, 256, 12)\n"
     ]
    }
   ],
   "source": [
    "file_list = np.sort(os.listdir(IMAGE_PATH))\n",
    "dataset = tf.data.Dataset.from_generator(tf_data_generator,\n",
    "                                         args=[file_list, IMAGE_PATH, MASK_PATH, 6],\n",
    "                                         output_types=(tf.float32, tf.float32),\n",
    "                                         output_shapes=(BATCH_INPUT_DIM, BATCH_OUTPUT_DIM))\n",
    "for images, masks in dataset.take(5):\n",
    "    print(f'{images.shape} {masks.shape}')"
   ]
  },
  {
   "cell_type": "code",
   "execution_count": null,
   "metadata": {},
   "outputs": [],
   "source": []
  }
 ],
 "metadata": {
  "interpreter": {
   "hash": "46c36fa438a0e5217cf9152cd05c2dbbe7da14e3af0a2f78612f95babe496324"
  },
  "kernelspec": {
   "display_name": "Python 3.7.4 ('base')",
   "language": "python",
   "name": "python3"
  },
  "language_info": {
   "codemirror_mode": {
    "name": "ipython",
    "version": 3
   },
   "file_extension": ".py",
   "mimetype": "text/x-python",
   "name": "python",
   "nbconvert_exporter": "python",
   "pygments_lexer": "ipython3",
   "version": "3.7.4"
  },
  "orig_nbformat": 4
 },
 "nbformat": 4,
 "nbformat_minor": 2
}
